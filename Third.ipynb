{
  "nbformat": 4,
  "nbformat_minor": 0,
  "metadata": {
    "colab": {
      "provenance": [],
      "authorship_tag": "ABX9TyNTPf3vjQ7UetX9I9t0qeo1",
      "include_colab_link": true
    },
    "kernelspec": {
      "name": "python3",
      "display_name": "Python 3"
    },
    "language_info": {
      "name": "python"
    }
  },
  "cells": [
    {
      "cell_type": "markdown",
      "metadata": {
        "id": "view-in-github",
        "colab_type": "text"
      },
      "source": [
        "<a href=\"https://colab.research.google.com/github/Kana126/Kana126-ChartExamples/blob/Develop/Third.ipynb\" target=\"_parent\"><img src=\"https://colab.research.google.com/assets/colab-badge.svg\" alt=\"Open In Colab\"/></a>"
      ]
    },
    {
      "cell_type": "markdown",
      "source": [
        "# **Третий файл**"
      ],
      "metadata": {
        "id": "OFglHYnJRisu"
      }
    },
    {
      "cell_type": "code",
      "execution_count": null,
      "metadata": {
        "colab": {
          "base_uri": "https://localhost:8080/"
        },
        "id": "nqZ8dUWmQgqS",
        "outputId": "87240903-1b06-4458-df2f-61e985eef6af"
      },
      "outputs": [
        {
          "output_type": "stream",
          "name": "stdout",
          "text": [
            "Hello word\n"
          ]
        }
      ],
      "source": [
        "print (\"Hello word\")"
      ]
    },
    {
      "cell_type": "code",
      "source": [],
      "metadata": {
        "id": "QIEscy5nU_iT"
      },
      "execution_count": 3,
      "outputs": []
    },
    {
      "cell_type": "markdown",
      "source": [
        "$\\sqrt{3x-1}+(1+x)^2$"
      ],
      "metadata": {
        "id": "92445MfdVAVT"
      }
    },
    {
      "cell_type": "code",
      "source": [
        "from random import randint\n",
        "from sklearn.linear_model import LinearRegression"
      ],
      "metadata": {
        "id": "AfnAh8qw_xrf"
      },
      "execution_count": 8,
      "outputs": []
    },
    {
      "cell_type": "code",
      "source": [
        "\n",
        "# Создание тренировачного набора данных\n",
        "train_set_limit = 1000\n",
        "train_set_count = 100\n",
        "\n",
        "train_input = list()\n",
        "train_output = list()\n",
        "for i in range(train_set_count):\n",
        "    a = randint(0, train_set_limit)\n",
        "    b = randint(0, train_set_limit)\n",
        "    c = randint(0, train_set_limit)\n",
        "    op = a + (2*b) + (3*c)\n",
        "    train_input.append([a, b, c])\n",
        "    train_output.append(op)\n",
        "\n",
        "for i in range(20):\n",
        "    print(train_input[i], train_output[i])\n",
        "\n",
        "# Тренировка\n",
        "predictor = LinearRegression()\n",
        "predictor.fit(X=train_input, y=train_output)\n",
        "\n",
        "# Прогнозирование\n",
        "x_test = [[10, 20, 30]]\n",
        "outcome = predictor.predict(X=x_test)\n",
        "coefficients = predictor.coef_\n",
        "\n",
        "print ('Outcone :', outcome)\n",
        "print('Coefficients :', coefficients)"
      ],
      "metadata": {
        "colab": {
          "base_uri": "https://localhost:8080/"
        },
        "id": "aKakoRzg_m3R",
        "outputId": "b68b9e49-c1b8-4a78-d86a-049f2a2a59bf"
      },
      "execution_count": 9,
      "outputs": [
        {
          "output_type": "stream",
          "name": "stdout",
          "text": [
            "[169, 905, 821] 4442\n",
            "[91, 683, 716] 3605\n",
            "[613, 16, 351] 1698\n",
            "[226, 291, 455] 2173\n",
            "[68, 985, 552] 3694\n",
            "[636, 984, 852] 5160\n",
            "[716, 862, 464] 3832\n",
            "[87, 274, 459] 2012\n",
            "[692, 898, 492] 3964\n",
            "[869, 422, 580] 3453\n",
            "[812, 232, 424] 2548\n",
            "[336, 368, 219] 1729\n",
            "[249, 484, 98] 1511\n",
            "[497, 301, 639] 3016\n",
            "[33, 305, 700] 2743\n",
            "[244, 689, 72] 1838\n",
            "[610, 282, 362] 2260\n",
            "[81, 595, 331] 2264\n",
            "[805, 645, 848] 4639\n",
            "[660, 134, 519] 2485\n",
            "Outcone : [140.]\n",
            "Coefficients : [1. 2. 3.]\n"
          ]
        }
      ]
    }
  ]
}